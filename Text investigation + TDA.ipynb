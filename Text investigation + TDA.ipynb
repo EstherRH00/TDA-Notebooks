{
 "cells": [
  {
   "cell_type": "code",
   "execution_count": 1,
   "id": "decffce2",
   "metadata": {},
   "outputs": [],
   "source": [
    "import pandas as pd"
   ]
  },
  {
   "cell_type": "code",
   "execution_count": 2,
   "id": "29077cac",
   "metadata": {},
   "outputs": [],
   "source": [
    "df = pd.read_json(\"./Musical_instruments_meta_2.json\")"
   ]
  },
  {
   "cell_type": "code",
   "execution_count": 3,
   "id": "0ac405a1",
   "metadata": {},
   "outputs": [
    {
     "data": {
      "text/html": [
       "<div>\n",
       "<style scoped>\n",
       "    .dataframe tbody tr th:only-of-type {\n",
       "        vertical-align: middle;\n",
       "    }\n",
       "\n",
       "    .dataframe tbody tr th {\n",
       "        vertical-align: top;\n",
       "    }\n",
       "\n",
       "    .dataframe thead th {\n",
       "        text-align: right;\n",
       "    }\n",
       "</style>\n",
       "<table border=\"1\" class=\"dataframe\">\n",
       "  <thead>\n",
       "    <tr style=\"text-align: right;\">\n",
       "      <th></th>\n",
       "      <th>asin</th>\n",
       "      <th>title</th>\n",
       "      <th>price</th>\n",
       "      <th>imUrl</th>\n",
       "      <th>salesRank</th>\n",
       "      <th>categories</th>\n",
       "      <th>related</th>\n",
       "      <th>brand</th>\n",
       "      <th>description</th>\n",
       "    </tr>\n",
       "  </thead>\n",
       "  <tbody>\n",
       "    <tr>\n",
       "      <th>0</th>\n",
       "      <td>0006428320</td>\n",
       "      <td>Six Sonatas For Two Flutes Or Violins, Volume ...</td>\n",
       "      <td>17.95</td>\n",
       "      <td>http://ecx.images-amazon.com/images/I/41EpRmh8...</td>\n",
       "      <td>{'Musical Instruments': 207315}</td>\n",
       "      <td>[[Musical Instruments, Instrument Accessories,...</td>\n",
       "      <td>NaN</td>\n",
       "      <td>NaN</td>\n",
       "      <td>NaN</td>\n",
       "    </tr>\n",
       "    <tr>\n",
       "      <th>1</th>\n",
       "      <td>0014072149</td>\n",
       "      <td>Double Concerto in D Minor By Johann Sebastian...</td>\n",
       "      <td>18.77</td>\n",
       "      <td>http://ecx.images-amazon.com/images/I/41m6ygCq...</td>\n",
       "      <td>{'Musical Instruments': 94593}</td>\n",
       "      <td>[[Musical Instruments]]</td>\n",
       "      <td>{'also_viewed': ['B0058DK7RA'], 'buy_after_vie...</td>\n",
       "      <td></td>\n",
       "      <td>Composer: J.S. Bach.Peters Edition.For two vio...</td>\n",
       "    </tr>\n",
       "    <tr>\n",
       "      <th>2</th>\n",
       "      <td>0041291905</td>\n",
       "      <td>Hal Leonard Vivaldi Four Seasons for Piano (Or...</td>\n",
       "      <td>NaN</td>\n",
       "      <td>http://ecx.images-amazon.com/images/I/41maAqSO...</td>\n",
       "      <td>{'Musical Instruments': 222972}</td>\n",
       "      <td>[[Musical Instruments, Instrument Accessories,...</td>\n",
       "      <td>NaN</td>\n",
       "      <td>NaN</td>\n",
       "      <td>Vivaldi's famous set of four violin concertos ...</td>\n",
       "    </tr>\n",
       "    <tr>\n",
       "      <th>3</th>\n",
       "      <td>0041913574</td>\n",
       "      <td>Aida: Opera in Quattro Atti, Partitura -- Aida...</td>\n",
       "      <td>49.99</td>\n",
       "      <td>http://ecx.images-amazon.com/images/I/513kRMv%...</td>\n",
       "      <td>NaN</td>\n",
       "      <td>[[Musical Instruments]]</td>\n",
       "      <td>NaN</td>\n",
       "      <td>NaN</td>\n",
       "      <td>444 pages. \\nReprint of corrected and revised ...</td>\n",
       "    </tr>\n",
       "    <tr>\n",
       "      <th>4</th>\n",
       "      <td>0201891859</td>\n",
       "      <td>Nocturnes</td>\n",
       "      <td>NaN</td>\n",
       "      <td>http://ecx.images-amazon.com/images/I/41SXCAzs...</td>\n",
       "      <td>{'Musical Instruments': 171871}</td>\n",
       "      <td>[[Musical Instruments, Instrument Accessories,...</td>\n",
       "      <td>NaN</td>\n",
       "      <td>NaN</td>\n",
       "      <td>NaN</td>\n",
       "    </tr>\n",
       "  </tbody>\n",
       "</table>\n",
       "</div>"
      ],
      "text/plain": [
       "         asin                                              title  price  \\\n",
       "0  0006428320  Six Sonatas For Two Flutes Or Violins, Volume ...  17.95   \n",
       "1  0014072149  Double Concerto in D Minor By Johann Sebastian...  18.77   \n",
       "2  0041291905  Hal Leonard Vivaldi Four Seasons for Piano (Or...    NaN   \n",
       "3  0041913574  Aida: Opera in Quattro Atti, Partitura -- Aida...  49.99   \n",
       "4  0201891859                                          Nocturnes    NaN   \n",
       "\n",
       "                                               imUrl  \\\n",
       "0  http://ecx.images-amazon.com/images/I/41EpRmh8...   \n",
       "1  http://ecx.images-amazon.com/images/I/41m6ygCq...   \n",
       "2  http://ecx.images-amazon.com/images/I/41maAqSO...   \n",
       "3  http://ecx.images-amazon.com/images/I/513kRMv%...   \n",
       "4  http://ecx.images-amazon.com/images/I/41SXCAzs...   \n",
       "\n",
       "                         salesRank  \\\n",
       "0  {'Musical Instruments': 207315}   \n",
       "1   {'Musical Instruments': 94593}   \n",
       "2  {'Musical Instruments': 222972}   \n",
       "3                              NaN   \n",
       "4  {'Musical Instruments': 171871}   \n",
       "\n",
       "                                          categories  \\\n",
       "0  [[Musical Instruments, Instrument Accessories,...   \n",
       "1                            [[Musical Instruments]]   \n",
       "2  [[Musical Instruments, Instrument Accessories,...   \n",
       "3                            [[Musical Instruments]]   \n",
       "4  [[Musical Instruments, Instrument Accessories,...   \n",
       "\n",
       "                                             related brand  \\\n",
       "0                                                NaN   NaN   \n",
       "1  {'also_viewed': ['B0058DK7RA'], 'buy_after_vie...         \n",
       "2                                                NaN   NaN   \n",
       "3                                                NaN   NaN   \n",
       "4                                                NaN   NaN   \n",
       "\n",
       "                                         description  \n",
       "0                                                NaN  \n",
       "1  Composer: J.S. Bach.Peters Edition.For two vio...  \n",
       "2  Vivaldi's famous set of four violin concertos ...  \n",
       "3  444 pages. \\nReprint of corrected and revised ...  \n",
       "4                                                NaN  "
      ]
     },
     "execution_count": 3,
     "metadata": {},
     "output_type": "execute_result"
    }
   ],
   "source": [
    "df.head()"
   ]
  },
  {
   "cell_type": "markdown",
   "id": "4b02855f",
   "metadata": {},
   "source": [
    "En primer lloc miro:\n",
    "\n",
    "    a. Quants productes tenen descripció\n",
    "    b. D'aquests, quants tenen més de 3 frases.\n",
    "    c. Quina és la longitud mitja d'aquestes frases\n",
    "    \n",
    "Pensant en [aquest paper](https://arxiv.org/abs/2003.13138)"
   ]
  },
  {
   "cell_type": "code",
   "execution_count": 4,
   "id": "e7a1a827",
   "metadata": {},
   "outputs": [
    {
     "name": "stdout",
     "output_type": "stream",
     "text": [
      "Hi ha 78629 files amb descripció, que es un 92.61257229007903 %\n"
     ]
    }
   ],
   "source": [
    "non_nan_count = df['description'].count()\n",
    "print(\"Hi ha\", non_nan_count, \"files amb descripció, que es un\", non_nan_count/df.shape[0]*100, \"%\")"
   ]
  },
  {
   "cell_type": "code",
   "execution_count": 5,
   "id": "16913d56",
   "metadata": {},
   "outputs": [
    {
     "data": {
      "text/html": [
       "<div>\n",
       "<style scoped>\n",
       "    .dataframe tbody tr th:only-of-type {\n",
       "        vertical-align: middle;\n",
       "    }\n",
       "\n",
       "    .dataframe tbody tr th {\n",
       "        vertical-align: top;\n",
       "    }\n",
       "\n",
       "    .dataframe thead th {\n",
       "        text-align: right;\n",
       "    }\n",
       "</style>\n",
       "<table border=\"1\" class=\"dataframe\">\n",
       "  <thead>\n",
       "    <tr style=\"text-align: right;\">\n",
       "      <th></th>\n",
       "      <th>asin</th>\n",
       "      <th>title</th>\n",
       "      <th>price</th>\n",
       "      <th>imUrl</th>\n",
       "      <th>salesRank</th>\n",
       "      <th>categories</th>\n",
       "      <th>related</th>\n",
       "      <th>brand</th>\n",
       "      <th>description</th>\n",
       "      <th>num_sentences_descr</th>\n",
       "    </tr>\n",
       "  </thead>\n",
       "  <tbody>\n",
       "    <tr>\n",
       "      <th>0</th>\n",
       "      <td>0006428320</td>\n",
       "      <td>Six Sonatas For Two Flutes Or Violins, Volume ...</td>\n",
       "      <td>17.95</td>\n",
       "      <td>http://ecx.images-amazon.com/images/I/41EpRmh8...</td>\n",
       "      <td>{'Musical Instruments': 207315}</td>\n",
       "      <td>[[Musical Instruments, Instrument Accessories,...</td>\n",
       "      <td>NaN</td>\n",
       "      <td>NaN</td>\n",
       "      <td>NaN</td>\n",
       "      <td>NaN</td>\n",
       "    </tr>\n",
       "    <tr>\n",
       "      <th>1</th>\n",
       "      <td>0014072149</td>\n",
       "      <td>Double Concerto in D Minor By Johann Sebastian...</td>\n",
       "      <td>18.77</td>\n",
       "      <td>http://ecx.images-amazon.com/images/I/41m6ygCq...</td>\n",
       "      <td>{'Musical Instruments': 94593}</td>\n",
       "      <td>[[Musical Instruments]]</td>\n",
       "      <td>{'also_viewed': ['B0058DK7RA'], 'buy_after_vie...</td>\n",
       "      <td></td>\n",
       "      <td>Composer: J.S. Bach.Peters Edition.For two vio...</td>\n",
       "      <td>6.0</td>\n",
       "    </tr>\n",
       "    <tr>\n",
       "      <th>2</th>\n",
       "      <td>0041291905</td>\n",
       "      <td>Hal Leonard Vivaldi Four Seasons for Piano (Or...</td>\n",
       "      <td>NaN</td>\n",
       "      <td>http://ecx.images-amazon.com/images/I/41maAqSO...</td>\n",
       "      <td>{'Musical Instruments': 222972}</td>\n",
       "      <td>[[Musical Instruments, Instrument Accessories,...</td>\n",
       "      <td>NaN</td>\n",
       "      <td>NaN</td>\n",
       "      <td>Vivaldi's famous set of four violin concertos ...</td>\n",
       "      <td>4.0</td>\n",
       "    </tr>\n",
       "    <tr>\n",
       "      <th>3</th>\n",
       "      <td>0041913574</td>\n",
       "      <td>Aida: Opera in Quattro Atti, Partitura -- Aida...</td>\n",
       "      <td>49.99</td>\n",
       "      <td>http://ecx.images-amazon.com/images/I/513kRMv%...</td>\n",
       "      <td>NaN</td>\n",
       "      <td>[[Musical Instruments]]</td>\n",
       "      <td>NaN</td>\n",
       "      <td>NaN</td>\n",
       "      <td>444 pages. \\nReprint of corrected and revised ...</td>\n",
       "      <td>3.0</td>\n",
       "    </tr>\n",
       "    <tr>\n",
       "      <th>4</th>\n",
       "      <td>0201891859</td>\n",
       "      <td>Nocturnes</td>\n",
       "      <td>NaN</td>\n",
       "      <td>http://ecx.images-amazon.com/images/I/41SXCAzs...</td>\n",
       "      <td>{'Musical Instruments': 171871}</td>\n",
       "      <td>[[Musical Instruments, Instrument Accessories,...</td>\n",
       "      <td>NaN</td>\n",
       "      <td>NaN</td>\n",
       "      <td>NaN</td>\n",
       "      <td>NaN</td>\n",
       "    </tr>\n",
       "  </tbody>\n",
       "</table>\n",
       "</div>"
      ],
      "text/plain": [
       "         asin                                              title  price  \\\n",
       "0  0006428320  Six Sonatas For Two Flutes Or Violins, Volume ...  17.95   \n",
       "1  0014072149  Double Concerto in D Minor By Johann Sebastian...  18.77   \n",
       "2  0041291905  Hal Leonard Vivaldi Four Seasons for Piano (Or...    NaN   \n",
       "3  0041913574  Aida: Opera in Quattro Atti, Partitura -- Aida...  49.99   \n",
       "4  0201891859                                          Nocturnes    NaN   \n",
       "\n",
       "                                               imUrl  \\\n",
       "0  http://ecx.images-amazon.com/images/I/41EpRmh8...   \n",
       "1  http://ecx.images-amazon.com/images/I/41m6ygCq...   \n",
       "2  http://ecx.images-amazon.com/images/I/41maAqSO...   \n",
       "3  http://ecx.images-amazon.com/images/I/513kRMv%...   \n",
       "4  http://ecx.images-amazon.com/images/I/41SXCAzs...   \n",
       "\n",
       "                         salesRank  \\\n",
       "0  {'Musical Instruments': 207315}   \n",
       "1   {'Musical Instruments': 94593}   \n",
       "2  {'Musical Instruments': 222972}   \n",
       "3                              NaN   \n",
       "4  {'Musical Instruments': 171871}   \n",
       "\n",
       "                                          categories  \\\n",
       "0  [[Musical Instruments, Instrument Accessories,...   \n",
       "1                            [[Musical Instruments]]   \n",
       "2  [[Musical Instruments, Instrument Accessories,...   \n",
       "3                            [[Musical Instruments]]   \n",
       "4  [[Musical Instruments, Instrument Accessories,...   \n",
       "\n",
       "                                             related brand  \\\n",
       "0                                                NaN   NaN   \n",
       "1  {'also_viewed': ['B0058DK7RA'], 'buy_after_vie...         \n",
       "2                                                NaN   NaN   \n",
       "3                                                NaN   NaN   \n",
       "4                                                NaN   NaN   \n",
       "\n",
       "                                         description  num_sentences_descr  \n",
       "0                                                NaN                  NaN  \n",
       "1  Composer: J.S. Bach.Peters Edition.For two vio...                  6.0  \n",
       "2  Vivaldi's famous set of four violin concertos ...                  4.0  \n",
       "3  444 pages. \\nReprint of corrected and revised ...                  3.0  \n",
       "4                                                NaN                  NaN  "
      ]
     },
     "execution_count": 5,
     "metadata": {},
     "output_type": "execute_result"
    }
   ],
   "source": [
    "df['num_sentences_descr'] = df['description'].str.count('\\.') + 1\n",
    "df.head()"
   ]
  },
  {
   "cell_type": "code",
   "execution_count": 6,
   "id": "6f05838b",
   "metadata": {},
   "outputs": [
    {
     "name": "stdout",
     "output_type": "stream",
     "text": [
      "Hi ha 51295 files amb descripcions de 3 o més frases, que es un 60.41742735656824 %\n"
     ]
    }
   ],
   "source": [
    "three_or_more = (df['num_sentences_descr'] >= 3).sum()\n",
    "print(\"Hi ha\", three_or_more, \"files amb descripcions de 3 o més frases, que es un\", three_or_more/df.shape[0]*100, \"%\")"
   ]
  },
  {
   "cell_type": "code",
   "execution_count": 7,
   "id": "881dfed3",
   "metadata": {},
   "outputs": [
    {
     "name": "stdout",
     "output_type": "stream",
     "text": [
      "Les descripcions, quan existeixen, tenen de mitja una longitud de 5.232865736560302 frases (separades per .).\n"
     ]
    }
   ],
   "source": [
    "avg_length = df[\"num_sentences_descr\"].mean()\n",
    "print(\"Les descripcions, quan existeixen, tenen de mitja una longitud de\", avg_length, \"frases (separades per .).\")"
   ]
  },
  {
   "cell_type": "markdown",
   "id": "83fd7b9f",
   "metadata": {},
   "source": [
    "Concateno, quan existeix, títol, marca i categoríes."
   ]
  },
  {
   "cell_type": "code",
   "execution_count": 8,
   "id": "7ae8a691",
   "metadata": {},
   "outputs": [
    {
     "data": {
      "text/html": [
       "<div>\n",
       "<style scoped>\n",
       "    .dataframe tbody tr th:only-of-type {\n",
       "        vertical-align: middle;\n",
       "    }\n",
       "\n",
       "    .dataframe tbody tr th {\n",
       "        vertical-align: top;\n",
       "    }\n",
       "\n",
       "    .dataframe thead th {\n",
       "        text-align: right;\n",
       "    }\n",
       "</style>\n",
       "<table border=\"1\" class=\"dataframe\">\n",
       "  <thead>\n",
       "    <tr style=\"text-align: right;\">\n",
       "      <th></th>\n",
       "      <th>asin</th>\n",
       "      <th>title</th>\n",
       "      <th>price</th>\n",
       "      <th>imUrl</th>\n",
       "      <th>salesRank</th>\n",
       "      <th>categories</th>\n",
       "      <th>related</th>\n",
       "      <th>brand</th>\n",
       "      <th>description</th>\n",
       "      <th>num_sentences_descr</th>\n",
       "      <th>categories_str</th>\n",
       "    </tr>\n",
       "  </thead>\n",
       "  <tbody>\n",
       "    <tr>\n",
       "      <th>0</th>\n",
       "      <td>0006428320</td>\n",
       "      <td>Six Sonatas For Two Flutes Or Violins, Volume ...</td>\n",
       "      <td>17.95</td>\n",
       "      <td>http://ecx.images-amazon.com/images/I/41EpRmh8...</td>\n",
       "      <td>{'Musical Instruments': 207315}</td>\n",
       "      <td>[Musical Instruments, Instrument Accessories, ...</td>\n",
       "      <td>NaN</td>\n",
       "      <td>NaN</td>\n",
       "      <td>NaN</td>\n",
       "      <td>NaN</td>\n",
       "      <td>Musical Instruments, Instrument Accessories, G...</td>\n",
       "    </tr>\n",
       "    <tr>\n",
       "      <th>1</th>\n",
       "      <td>0014072149</td>\n",
       "      <td>Double Concerto in D Minor By Johann Sebastian...</td>\n",
       "      <td>18.77</td>\n",
       "      <td>http://ecx.images-amazon.com/images/I/41m6ygCq...</td>\n",
       "      <td>{'Musical Instruments': 94593}</td>\n",
       "      <td>[Musical Instruments]</td>\n",
       "      <td>{'also_viewed': ['B0058DK7RA'], 'buy_after_vie...</td>\n",
       "      <td></td>\n",
       "      <td>Composer: J.S. Bach.Peters Edition.For two vio...</td>\n",
       "      <td>6.0</td>\n",
       "      <td>Musical Instruments</td>\n",
       "    </tr>\n",
       "    <tr>\n",
       "      <th>2</th>\n",
       "      <td>0041291905</td>\n",
       "      <td>Hal Leonard Vivaldi Four Seasons for Piano (Or...</td>\n",
       "      <td>NaN</td>\n",
       "      <td>http://ecx.images-amazon.com/images/I/41maAqSO...</td>\n",
       "      <td>{'Musical Instruments': 222972}</td>\n",
       "      <td>[Musical Instruments, Instrument Accessories, ...</td>\n",
       "      <td>NaN</td>\n",
       "      <td>NaN</td>\n",
       "      <td>Vivaldi's famous set of four violin concertos ...</td>\n",
       "      <td>4.0</td>\n",
       "      <td>Musical Instruments, Instrument Accessories, G...</td>\n",
       "    </tr>\n",
       "    <tr>\n",
       "      <th>3</th>\n",
       "      <td>0041913574</td>\n",
       "      <td>Aida: Opera in Quattro Atti, Partitura -- Aida...</td>\n",
       "      <td>49.99</td>\n",
       "      <td>http://ecx.images-amazon.com/images/I/513kRMv%...</td>\n",
       "      <td>NaN</td>\n",
       "      <td>[Musical Instruments]</td>\n",
       "      <td>NaN</td>\n",
       "      <td>NaN</td>\n",
       "      <td>444 pages. \\nReprint of corrected and revised ...</td>\n",
       "      <td>3.0</td>\n",
       "      <td>Musical Instruments</td>\n",
       "    </tr>\n",
       "    <tr>\n",
       "      <th>4</th>\n",
       "      <td>0201891859</td>\n",
       "      <td>Nocturnes</td>\n",
       "      <td>NaN</td>\n",
       "      <td>http://ecx.images-amazon.com/images/I/41SXCAzs...</td>\n",
       "      <td>{'Musical Instruments': 171871}</td>\n",
       "      <td>[Musical Instruments, Instrument Accessories, ...</td>\n",
       "      <td>NaN</td>\n",
       "      <td>NaN</td>\n",
       "      <td>NaN</td>\n",
       "      <td>NaN</td>\n",
       "      <td>Musical Instruments, Instrument Accessories, G...</td>\n",
       "    </tr>\n",
       "  </tbody>\n",
       "</table>\n",
       "</div>"
      ],
      "text/plain": [
       "         asin                                              title  price  \\\n",
       "0  0006428320  Six Sonatas For Two Flutes Or Violins, Volume ...  17.95   \n",
       "1  0014072149  Double Concerto in D Minor By Johann Sebastian...  18.77   \n",
       "2  0041291905  Hal Leonard Vivaldi Four Seasons for Piano (Or...    NaN   \n",
       "3  0041913574  Aida: Opera in Quattro Atti, Partitura -- Aida...  49.99   \n",
       "4  0201891859                                          Nocturnes    NaN   \n",
       "\n",
       "                                               imUrl  \\\n",
       "0  http://ecx.images-amazon.com/images/I/41EpRmh8...   \n",
       "1  http://ecx.images-amazon.com/images/I/41m6ygCq...   \n",
       "2  http://ecx.images-amazon.com/images/I/41maAqSO...   \n",
       "3  http://ecx.images-amazon.com/images/I/513kRMv%...   \n",
       "4  http://ecx.images-amazon.com/images/I/41SXCAzs...   \n",
       "\n",
       "                         salesRank  \\\n",
       "0  {'Musical Instruments': 207315}   \n",
       "1   {'Musical Instruments': 94593}   \n",
       "2  {'Musical Instruments': 222972}   \n",
       "3                              NaN   \n",
       "4  {'Musical Instruments': 171871}   \n",
       "\n",
       "                                          categories  \\\n",
       "0  [Musical Instruments, Instrument Accessories, ...   \n",
       "1                              [Musical Instruments]   \n",
       "2  [Musical Instruments, Instrument Accessories, ...   \n",
       "3                              [Musical Instruments]   \n",
       "4  [Musical Instruments, Instrument Accessories, ...   \n",
       "\n",
       "                                             related brand  \\\n",
       "0                                                NaN   NaN   \n",
       "1  {'also_viewed': ['B0058DK7RA'], 'buy_after_vie...         \n",
       "2                                                NaN   NaN   \n",
       "3                                                NaN   NaN   \n",
       "4                                                NaN   NaN   \n",
       "\n",
       "                                         description  num_sentences_descr  \\\n",
       "0                                                NaN                  NaN   \n",
       "1  Composer: J.S. Bach.Peters Edition.For two vio...                  6.0   \n",
       "2  Vivaldi's famous set of four violin concertos ...                  4.0   \n",
       "3  444 pages. \\nReprint of corrected and revised ...                  3.0   \n",
       "4                                                NaN                  NaN   \n",
       "\n",
       "                                      categories_str  \n",
       "0  Musical Instruments, Instrument Accessories, G...  \n",
       "1                                Musical Instruments  \n",
       "2  Musical Instruments, Instrument Accessories, G...  \n",
       "3                                Musical Instruments  \n",
       "4  Musical Instruments, Instrument Accessories, G...  "
      ]
     },
     "execution_count": 8,
     "metadata": {},
     "output_type": "execute_result"
    }
   ],
   "source": [
    "df['categories'] = df['categories'].apply(lambda x: x[0] if isinstance(x, list) and len(x) > 0 else None)\n",
    "df['categories_str'] = df['categories'].apply(lambda x: ', '.join(map(str, x)) if isinstance(x, list) else '')\n",
    "df.head()"
   ]
  },
  {
   "cell_type": "code",
   "execution_count": 9,
   "id": "6f1a2ddb",
   "metadata": {},
   "outputs": [
    {
     "data": {
      "text/html": [
       "<div>\n",
       "<style scoped>\n",
       "    .dataframe tbody tr th:only-of-type {\n",
       "        vertical-align: middle;\n",
       "    }\n",
       "\n",
       "    .dataframe tbody tr th {\n",
       "        vertical-align: top;\n",
       "    }\n",
       "\n",
       "    .dataframe thead th {\n",
       "        text-align: right;\n",
       "    }\n",
       "</style>\n",
       "<table border=\"1\" class=\"dataframe\">\n",
       "  <thead>\n",
       "    <tr style=\"text-align: right;\">\n",
       "      <th></th>\n",
       "      <th>asin</th>\n",
       "      <th>title</th>\n",
       "      <th>price</th>\n",
       "      <th>imUrl</th>\n",
       "      <th>salesRank</th>\n",
       "      <th>categories</th>\n",
       "      <th>related</th>\n",
       "      <th>brand</th>\n",
       "      <th>description</th>\n",
       "      <th>num_sentences_descr</th>\n",
       "      <th>categories_str</th>\n",
       "      <th>combined_text</th>\n",
       "    </tr>\n",
       "  </thead>\n",
       "  <tbody>\n",
       "    <tr>\n",
       "      <th>0</th>\n",
       "      <td>0006428320</td>\n",
       "      <td>Six Sonatas For Two Flutes Or Violins, Volume ...</td>\n",
       "      <td>17.95</td>\n",
       "      <td>http://ecx.images-amazon.com/images/I/41EpRmh8...</td>\n",
       "      <td>{'Musical Instruments': 207315}</td>\n",
       "      <td>[Musical Instruments, Instrument Accessories, ...</td>\n",
       "      <td>NaN</td>\n",
       "      <td>NaN</td>\n",
       "      <td>NaN</td>\n",
       "      <td>NaN</td>\n",
       "      <td>Musical Instruments, Instrument Accessories, G...</td>\n",
       "      <td>Six Sonatas For Two Flutes Or Violins, Volume ...</td>\n",
       "    </tr>\n",
       "    <tr>\n",
       "      <th>1</th>\n",
       "      <td>0014072149</td>\n",
       "      <td>Double Concerto in D Minor By Johann Sebastian...</td>\n",
       "      <td>18.77</td>\n",
       "      <td>http://ecx.images-amazon.com/images/I/41m6ygCq...</td>\n",
       "      <td>{'Musical Instruments': 94593}</td>\n",
       "      <td>[Musical Instruments]</td>\n",
       "      <td>{'also_viewed': ['B0058DK7RA'], 'buy_after_vie...</td>\n",
       "      <td></td>\n",
       "      <td>Composer: J.S. Bach.Peters Edition.For two vio...</td>\n",
       "      <td>6.0</td>\n",
       "      <td>Musical Instruments</td>\n",
       "      <td>. Double Concerto in D Minor By Johann Sebasti...</td>\n",
       "    </tr>\n",
       "    <tr>\n",
       "      <th>2</th>\n",
       "      <td>0041291905</td>\n",
       "      <td>Hal Leonard Vivaldi Four Seasons for Piano (Or...</td>\n",
       "      <td>NaN</td>\n",
       "      <td>http://ecx.images-amazon.com/images/I/41maAqSO...</td>\n",
       "      <td>{'Musical Instruments': 222972}</td>\n",
       "      <td>[Musical Instruments, Instrument Accessories, ...</td>\n",
       "      <td>NaN</td>\n",
       "      <td>NaN</td>\n",
       "      <td>Vivaldi's famous set of four violin concertos ...</td>\n",
       "      <td>4.0</td>\n",
       "      <td>Musical Instruments, Instrument Accessories, G...</td>\n",
       "      <td>Hal Leonard Vivaldi Four Seasons for Piano (Or...</td>\n",
       "    </tr>\n",
       "    <tr>\n",
       "      <th>3</th>\n",
       "      <td>0041913574</td>\n",
       "      <td>Aida: Opera in Quattro Atti, Partitura -- Aida...</td>\n",
       "      <td>49.99</td>\n",
       "      <td>http://ecx.images-amazon.com/images/I/513kRMv%...</td>\n",
       "      <td>NaN</td>\n",
       "      <td>[Musical Instruments]</td>\n",
       "      <td>NaN</td>\n",
       "      <td>NaN</td>\n",
       "      <td>444 pages. \\nReprint of corrected and revised ...</td>\n",
       "      <td>3.0</td>\n",
       "      <td>Musical Instruments</td>\n",
       "      <td>Aida: Opera in Quattro Atti, Partitura -- Aida...</td>\n",
       "    </tr>\n",
       "    <tr>\n",
       "      <th>4</th>\n",
       "      <td>0201891859</td>\n",
       "      <td>Nocturnes</td>\n",
       "      <td>NaN</td>\n",
       "      <td>http://ecx.images-amazon.com/images/I/41SXCAzs...</td>\n",
       "      <td>{'Musical Instruments': 171871}</td>\n",
       "      <td>[Musical Instruments, Instrument Accessories, ...</td>\n",
       "      <td>NaN</td>\n",
       "      <td>NaN</td>\n",
       "      <td>NaN</td>\n",
       "      <td>NaN</td>\n",
       "      <td>Musical Instruments, Instrument Accessories, G...</td>\n",
       "      <td>Nocturnes. Musical Instruments, Instrument Acc...</td>\n",
       "    </tr>\n",
       "  </tbody>\n",
       "</table>\n",
       "</div>"
      ],
      "text/plain": [
       "         asin                                              title  price  \\\n",
       "0  0006428320  Six Sonatas For Two Flutes Or Violins, Volume ...  17.95   \n",
       "1  0014072149  Double Concerto in D Minor By Johann Sebastian...  18.77   \n",
       "2  0041291905  Hal Leonard Vivaldi Four Seasons for Piano (Or...    NaN   \n",
       "3  0041913574  Aida: Opera in Quattro Atti, Partitura -- Aida...  49.99   \n",
       "4  0201891859                                          Nocturnes    NaN   \n",
       "\n",
       "                                               imUrl  \\\n",
       "0  http://ecx.images-amazon.com/images/I/41EpRmh8...   \n",
       "1  http://ecx.images-amazon.com/images/I/41m6ygCq...   \n",
       "2  http://ecx.images-amazon.com/images/I/41maAqSO...   \n",
       "3  http://ecx.images-amazon.com/images/I/513kRMv%...   \n",
       "4  http://ecx.images-amazon.com/images/I/41SXCAzs...   \n",
       "\n",
       "                         salesRank  \\\n",
       "0  {'Musical Instruments': 207315}   \n",
       "1   {'Musical Instruments': 94593}   \n",
       "2  {'Musical Instruments': 222972}   \n",
       "3                              NaN   \n",
       "4  {'Musical Instruments': 171871}   \n",
       "\n",
       "                                          categories  \\\n",
       "0  [Musical Instruments, Instrument Accessories, ...   \n",
       "1                              [Musical Instruments]   \n",
       "2  [Musical Instruments, Instrument Accessories, ...   \n",
       "3                              [Musical Instruments]   \n",
       "4  [Musical Instruments, Instrument Accessories, ...   \n",
       "\n",
       "                                             related brand  \\\n",
       "0                                                NaN   NaN   \n",
       "1  {'also_viewed': ['B0058DK7RA'], 'buy_after_vie...         \n",
       "2                                                NaN   NaN   \n",
       "3                                                NaN   NaN   \n",
       "4                                                NaN   NaN   \n",
       "\n",
       "                                         description  num_sentences_descr  \\\n",
       "0                                                NaN                  NaN   \n",
       "1  Composer: J.S. Bach.Peters Edition.For two vio...                  6.0   \n",
       "2  Vivaldi's famous set of four violin concertos ...                  4.0   \n",
       "3  444 pages. \\nReprint of corrected and revised ...                  3.0   \n",
       "4                                                NaN                  NaN   \n",
       "\n",
       "                                      categories_str  \\\n",
       "0  Musical Instruments, Instrument Accessories, G...   \n",
       "1                                Musical Instruments   \n",
       "2  Musical Instruments, Instrument Accessories, G...   \n",
       "3                                Musical Instruments   \n",
       "4  Musical Instruments, Instrument Accessories, G...   \n",
       "\n",
       "                                       combined_text  \n",
       "0  Six Sonatas For Two Flutes Or Violins, Volume ...  \n",
       "1  . Double Concerto in D Minor By Johann Sebasti...  \n",
       "2  Hal Leonard Vivaldi Four Seasons for Piano (Or...  \n",
       "3  Aida: Opera in Quattro Atti, Partitura -- Aida...  \n",
       "4  Nocturnes. Musical Instruments, Instrument Acc...  "
      ]
     },
     "execution_count": 9,
     "metadata": {},
     "output_type": "execute_result"
    }
   ],
   "source": [
    "df['combined_text'] = df.apply(\n",
    "    lambda row: (\n",
    "       ( str(row['brand']) + '. ' if not pd.isna(row['brand']) else '') +\n",
    "        ( str(row['title']) +'. ' if not pd.isna(row['title']) else '') +\n",
    "    ( str(row['categories_str']) + '. ' if not pd.isna(row['categories_str']) else '') +\n",
    "    str(row['description'])),\n",
    "    axis=1\n",
    ")\n",
    "df.head()"
   ]
  },
  {
   "cell_type": "markdown",
   "id": "b61db41d",
   "metadata": {},
   "source": [
    "Igual que abans"
   ]
  },
  {
   "cell_type": "code",
   "execution_count": 10,
   "id": "883c1b64",
   "metadata": {},
   "outputs": [
    {
     "name": "stdout",
     "output_type": "stream",
     "text": [
      "Hi ha 84901 files amb combined_text, que es un 100.0 %\n",
      "Hi ha 80753 files amb combined_text de 3 o més frases, que es un 95.11430960766069 %\n",
      "Les combined_text, quan existeixen, tenen de mitja una longitud de 7.29825325967892 frases (separades per .).\n"
     ]
    }
   ],
   "source": [
    "non_nan_count = df['combined_text'].count()\n",
    "print(\"Hi ha\", non_nan_count, \"files amb combined_text, que es un\", non_nan_count/df.shape[0]*100, \"%\")\n",
    "df['num_sentences_descr'] = df['combined_text'].str.count('\\.') + 1\n",
    "df.head()\n",
    "three_or_more = (df['num_sentences_descr'] >= 3).sum()\n",
    "print(\"Hi ha\", three_or_more, \"files amb combined_text de 3 o més frases, que es un\", three_or_more/df.shape[0]*100, \"%\")\n",
    "avg_length = df[\"num_sentences_descr\"].mean()\n",
    "print(\"Les combined_text, quan existeixen, tenen de mitja una longitud de\", avg_length, \"frases (separades per .).\")"
   ]
  },
  {
   "cell_type": "markdown",
   "id": "5f74e45e",
   "metadata": {},
   "source": [
    "Aquí comenca el TDA; seguint els PAPERS\n",
    "\n",
    "a. [TOPOLOGICAL DATA ANALYSIS IN TEXT CLASSIFICATION:\n",
    "EXTRACTING FEATURES WITH ADDITIVE INFORMATION](https://arxiv.org/pdf/2003.13138.pdf)\n",
    "* APPROACH 1: Topological features from word embeddings"
   ]
  },
  {
   "cell_type": "markdown",
   "id": "dc9a80ae",
   "metadata": {},
   "source": [
    "Our method of extracting topological features from embeddings is described in Algorithm 1. Assume that a document\n",
    "with T tokens is represented in D-dimensional word embedding by ΨT ×D\n",
    "\n",
    "Per tant entenc que això seria després de fer algo tipo BERT a cada una de les T paraules per transformar-les en un vector de D dimensions, no thank you això va després"
   ]
  },
  {
   "cell_type": "markdown",
   "id": "b9774a42",
   "metadata": {},
   "source": [
    "* APPROACH 2: Topological features de TF-IDF space\n",
    "\n",
    "We divide each document into 10 consecutive blocks of equal size, we calculate TF-IDF vector for each block. We\n",
    "chose 10, but one may try different number of blocks for each document. However, we note that using a large number\n",
    "of blocks could make the TF-IDF vectors too sparse, so that comparing them would not be useful. For instance, if an\n",
    "average number of tokens in a document is only 200 tokens and we divide each of the documents into 100 blocks, there\n",
    "would be two tokens in each block, and most of the blocks would have zero similarity\n",
    "\n",
    "In our experiments, we work on graphs of 10 vertices, where each vertex is represented by its TF-IDF vector"
   ]
  },
  {
   "attachments": {
    "imagen.png": {
     "image/png": "[encoded data removed]"
    }
   },
   "cell_type": "markdown",
   "id": "c685e36a",
   "metadata": {},
   "source": [
    "![imagen.png](attachment:imagen.png)"
   ]
  },
  {
   "cell_type": "code",
   "execution_count": 11,
   "id": "ab321670",
   "metadata": {},
   "outputs": [
    {
     "name": "stdout",
     "output_type": "stream",
     "text": [
      "['a ba', 'bb', 'a', 'b', 'a']\n"
     ]
    },
    {
     "data": {
      "text/plain": [
       "array([[1., 0.],\n",
       "       [0., 1.],\n",
       "       [0., 0.],\n",
       "       [0., 0.],\n",
       "       [0., 0.]])"
      ]
     },
     "execution_count": 11,
     "metadata": {},
     "output_type": "execute_result"
    }
   ],
   "source": [
    "from sklearn.feature_extraction.text import TfidfVectorizer\n",
    "import numpy as np\n",
    "import re\n",
    "\n",
    "def calculate_tfidf(text):\n",
    "    # Convert to lowercase\n",
    "    text_lower = text.lower()\n",
    "\n",
    "    # Remove non-word characters (keep only letters and numbers)\n",
    "    text_cleaned = re.sub(r'\\W', ' ', text_lower)\n",
    "    \n",
    "    # Step 1: Divide text into 10 equal-size arrays\n",
    "    paraules = text_lower.split()\n",
    "    T = len(paraules)\n",
    "    \n",
    "    n_blocks = 5\n",
    "    \n",
    "    chunks = []\n",
    "    res = T%n_blocks\n",
    "    chunk_size_a = T // n_blocks + 1 #arbitrariament trio que els primers siguin llargs\n",
    "    a = []\n",
    "    for i in range(0, res * chunk_size_a, chunk_size_a):\n",
    "        a.append(\" \".join(paraules[i:i + chunk_size_a]))\n",
    "    chunk_size_b = T // n_blocks\n",
    "    b = [\" \".join(paraules[i:i + chunk_size_b]) for i in range(res * chunk_size_a, T, chunk_size_b)]\n",
    "    chunks = a+b\n",
    "    \n",
    "    print(chunks)\n",
    "    \n",
    "    # Step 2-4: Calculate TF-IDF vectors for each chunk\n",
    "    tfidf_vectorizer = TfidfVectorizer()\n",
    "    aux = tfidf_vectorizer.fit_transform(chunks).toarray()\n",
    "    \n",
    "    return(np.asarray(aux))\n",
    "    \n",
    "\n",
    "# Example usage:\n",
    "text = np.array([1, 2, 3, 4, 5, 6, 7, 8, 9, 10])  # Replace this with your actual array R\n",
    "\n",
    "calculate_tfidf(\"a ba bb a b a\")\n"
   ]
  },
  {
   "cell_type": "code",
   "execution_count": 12,
   "id": "a67a7bd6",
   "metadata": {},
   "outputs": [
    {
     "name": "stdout",
     "output_type": "stream",
     "text": [
      "Six Sonatas For Two Flutes Or Violins, Volume 2 (#4-6). Musical Instruments, Instrument Accessories, General Accessories, Sheet Music Folders. nan\n",
      "['six sonatas for two', 'flutes or violins, volume', '2 (#4-6). musical instruments,', 'instrument accessories, general accessories,', 'sheet music folders. nan']\n",
      "[[0.         0.         0.         0.5        0.         0.\n",
      "  0.         0.         0.         0.         0.         0.\n",
      "  0.5        0.5        0.5        0.         0.        ]\n",
      " [0.         0.5        0.         0.         0.         0.\n",
      "  0.         0.         0.         0.         0.5        0.\n",
      "  0.         0.         0.         0.5        0.5       ]\n",
      " [0.         0.         0.         0.         0.         0.\n",
      "  0.70710678 0.         0.70710678 0.         0.         0.\n",
      "  0.         0.         0.         0.         0.        ]\n",
      " [0.81649658 0.         0.         0.         0.40824829 0.40824829\n",
      "  0.         0.         0.         0.         0.         0.\n",
      "  0.         0.         0.         0.         0.        ]\n",
      " [0.         0.         0.5        0.         0.         0.\n",
      "  0.         0.5        0.         0.5        0.         0.5\n",
      "  0.         0.         0.         0.         0.        ]]\n"
     ]
    }
   ],
   "source": [
    "print(df.loc[0,\"combined_text\"])\n",
    "print(calculate_tfidf(df.loc[0,\"combined_text\"]))"
   ]
  },
  {
   "cell_type": "code",
   "execution_count": 13,
   "id": "e0bb288d",
   "metadata": {},
   "outputs": [],
   "source": [
    "import numpy as np\n",
    "from numpy.random import default_rng\n",
    "rng = default_rng(42)  # Create a random number generator\n",
    "\n",
    "from scipy.spatial.distance import pdist, squareform\n",
    "from scipy.sparse import coo_matrix\n",
    "\n",
    "from gtda.graphs import GraphGeodesicDistance\n",
    "from gtda.homology import VietorisRipsPersistence, SparseRipsPersistence, FlagserPersistence\n",
    "\n",
    "from igraph import Graph\n",
    "\n",
    "from IPython.display import SVG, display\n",
    "\n",
    "import torch\n",
    "\n",
    "\n",
    "import gudhi as gd\n",
    "\n",
    "import gudhi.representations\n",
    "import matplotlib.pyplot as plt"
   ]
  },
  {
   "cell_type": "code",
   "execution_count": null,
   "id": "4c59b89a",
   "metadata": {},
   "outputs": [],
   "source": []
  },
  {
   "cell_type": "markdown",
   "id": "e89ec994",
   "metadata": {},
   "source": [
    "b. [USING TOPOLOGICAL DATA ANALYSIS FOR TEXT CLASSIFICATION](https://www.proquest.com/openview/6b7a6c694a0ded3edf2f6577b9ff4794/1?pq-origsite=gscholar&cbl=18750)"
   ]
  },
  {
   "cell_type": "code",
   "execution_count": null,
   "id": "6ba88ef7",
   "metadata": {},
   "outputs": [],
   "source": []
  },
  {
   "cell_type": "markdown",
   "id": "95f906a2",
   "metadata": {},
   "source": [
    "# Word2Vec"
   ]
  },
  {
   "cell_type": "code",
   "execution_count": 14,
   "id": "a1dc3dd2",
   "metadata": {},
   "outputs": [
    {
     "name": "stdout",
     "output_type": "stream",
     "text": [
      "Cosine similarity between 'alice' and 'wonderland' - CBOW :  0.9806748\n",
      "Cosine similarity between 'alice' and 'machines' - CBOW :  0.9754948\n",
      "Cosine similarity between 'alice' and 'wonderland' - Skip Gram :  0.6124693\n",
      "Cosine similarity between 'alice' and 'machines' - Skip Gram :  0.7649323\n"
     ]
    }
   ],
   "source": [
    "# Python program to generate word vectors using Word2Vec\n",
    "\n",
    "# importing all necessary modules\n",
    "from nltk.tokenize import sent_tokenize, word_tokenize\n",
    "import warnings\n",
    "\n",
    "warnings.filterwarnings(action = 'ignore')\n",
    "\n",
    "import gensim\n",
    "from gensim.models import Word2Vec\n",
    "\n",
    "# Reads ‘alice.txt’ file\n",
    "sample = open(\"alice.txt\",\"r\",encoding='utf-8')\n",
    "s = sample.read()\n",
    "\n",
    "# Replaces escape character with space\n",
    "f = s.replace(\"\\n\", \" \")\n",
    "\n",
    "data = []\n",
    "\n",
    "# iterate through each sentence in the file\n",
    "for i in sent_tokenize(f):\n",
    "\ttemp = []\n",
    "\t\n",
    "\t# tokenize the sentence into words\n",
    "\tfor j in word_tokenize(i):\n",
    "\t\ttemp.append(j.lower())\n",
    "\n",
    "\tdata.append(temp)\n",
    "\n",
    "# Create CBOW model\n",
    "model1 = gensim.models.Word2Vec(data, min_count = 1, \n",
    "\t\t\t\t\t\t\tvector_size = 100, window = 5)\n",
    "\n",
    "# Print results\n",
    "print(\"Cosine similarity between 'alice' \" +\n",
    "\t\t\t\"and 'wonderland' - CBOW : \",\n",
    "\tmodel1.wv.similarity('alice', 'wonderland'))\n",
    "\t\n",
    "print(\"Cosine similarity between 'alice' \" +\n",
    "\t\t\t\t\"and 'machines' - CBOW : \",\n",
    "\tmodel1.wv.similarity('alice', 'machines'))\n",
    "\n",
    "# Create Skip Gram model\n",
    "model2 = gensim.models.Word2Vec(data, min_count = 1, vector_size = 100,\n",
    "\t\t\t\t\t\t\t\t\t\t\twindow = 5, sg = 1)\n",
    "\n",
    "# Print results\n",
    "print(\"Cosine similarity between 'alice' \" +\n",
    "\t\t\"and 'wonderland' - Skip Gram : \",\n",
    "\tmodel2.wv.similarity('alice', 'wonderland'))\n",
    "\t\n",
    "print(\"Cosine similarity between 'alice' \" +\n",
    "\t\t\t\"and 'machines' - Skip Gram : \",\n",
    "\tmodel2.wv.similarity('alice', 'machines'))\n"
   ]
  },
  {
   "cell_type": "code",
   "execution_count": 15,
   "id": "6776e8c7",
   "metadata": {},
   "outputs": [
    {
     "data": {
      "text/plain": [
       "array([[-0.00407891,  0.14650804,  0.15383956, ...,  0.04121608,\n",
       "        -0.00982653, -0.00385221],\n",
       "       [-0.12298068,  0.23801416,  0.21683668, ..., -0.01907082,\n",
       "         0.02447973,  0.05239458],\n",
       "       [ 0.01976829,  0.17875694,  0.15444754, ...,  0.1170219 ,\n",
       "         0.05009957,  0.03804929],\n",
       "       ...,\n",
       "       [-0.01735833,  0.04677835,  0.03901229, ..., -0.00152084,\n",
       "         0.02101321,  0.00300883],\n",
       "       [-0.01070298,  0.03543435,  0.0266729 , ...,  0.01423293,\n",
       "         0.02171016,  0.0040449 ],\n",
       "       [-0.03501032,  0.05511262,  0.04954239, ...,  0.01684494,\n",
       "         0.03112293, -0.00125174]], dtype=float32)"
      ]
     },
     "execution_count": 15,
     "metadata": {},
     "output_type": "execute_result"
    }
   ],
   "source": [
    "model2.wv.vectors"
   ]
  },
  {
   "cell_type": "code",
   "execution_count": 16,
   "id": "818da640",
   "metadata": {},
   "outputs": [
    {
     "data": {
      "text/plain": [
       "array([ 0.11979388,  0.12970953,  0.15553807,  0.16342047,  0.20420401,\n",
       "       -0.41597348,  0.12794875,  0.5490237 , -0.275206  , -0.24755163,\n",
       "       -0.05163648, -0.31411013, -0.0205276 ,  0.23280136,  0.02063558,\n",
       "       -0.28669932,  0.02593004, -0.18108298, -0.12846027, -0.78310454,\n",
       "        0.2397644 ,  0.06203348,  0.47130194, -0.23886739, -0.11133532,\n",
       "       -0.04961525, -0.2236604 ,  0.08520633, -0.3651412 ,  0.05375613,\n",
       "        0.17903677, -0.1236597 ,  0.29491144, -0.32142213, -0.22841133,\n",
       "        0.47345215,  0.06906129, -0.09830467, -0.20144276, -0.1589501 ,\n",
       "        0.02532424, -0.17915502, -0.0818384 , -0.01936358,  0.13910572,\n",
       "        0.01920948,  0.07313372, -0.23051006,  0.13419686,  0.1598091 ,\n",
       "        0.24135764,  0.09368696, -0.06744297, -0.15291171, -0.04009707,\n",
       "       -0.16194557,  0.10154386, -0.01285646, -0.11850921,  0.10241256,\n",
       "        0.12569478, -0.07348023,  0.16970634,  0.09240137, -0.27174497,\n",
       "        0.2263682 , -0.10630364,  0.17033513, -0.31717545,  0.2685592 ,\n",
       "       -0.14993973,  0.27906   ,  0.06524   ,  0.1995714 ,  0.3276186 ,\n",
       "        0.06462702,  0.09373969,  0.10758589, -0.19020884, -0.05136559,\n",
       "       -0.1766152 ,  0.24433428, -0.30513644,  0.11177322, -0.03407844,\n",
       "       -0.31915885,  0.3434886 ,  0.1221597 ,  0.2730188 ,  0.03772012,\n",
       "        0.44497544,  0.11072531,  0.04636633,  0.04614583,  0.55528766,\n",
       "        0.12963256,  0.03352022,  0.06865063, -0.05756727, -0.01539822],\n",
       "      dtype=float32)"
      ]
     },
     "execution_count": 16,
     "metadata": {},
     "output_type": "execute_result"
    }
   ],
   "source": [
    "model2.wv.key_to_index\n",
    "model2.wv.vectors[model2.wv.key_to_index['alice']]"
   ]
  },
  {
   "cell_type": "code",
   "execution_count": 1,
   "id": "d0c33ff1",
   "metadata": {},
   "outputs": [
    {
     "name": "stdout",
     "output_type": "stream",
     "text": [
      "['fasttext-wiki-news-subwords-300', 'conceptnet-numberbatch-17-06-300', 'word2vec-ruscorpora-300', 'word2vec-google-news-300', 'glove-wiki-gigaword-50', 'glove-wiki-gigaword-100', 'glove-wiki-gigaword-200', 'glove-wiki-gigaword-300', 'glove-twitter-25', 'glove-twitter-50', 'glove-twitter-100', 'glove-twitter-200', '__testing_word2vec-matrix-synopsis']\n",
      "[==================================================] 100.0% 1662.8/1662.8MB downloaded\n"
     ]
    }
   ],
   "source": [
    "import gensim.downloader\n",
    "\n",
    "# Show all available models in gensim-data\n",
    "\n",
    "print(list(gensim.downloader.info()['models'].keys()))\n",
    "google_vectors = gensim.downloader.load('word2vec-google-news-300')"
   ]
  },
  {
   "cell_type": "code",
   "execution_count": 2,
   "id": "9a9e6b8d",
   "metadata": {},
   "outputs": [
    {
     "name": "stdout",
     "output_type": "stream",
     "text": [
      "[('Twitter', 0.8908904194831848), ('Twitter.com', 0.753678023815155), ('tweet', 0.7431625723838806), ('tweeting', 0.7161931991577148), ('tweeted', 0.7137225866317749), ('facebook', 0.6988551616668701), ('tweets', 0.6974530816078186), ('Tweeted', 0.6950210928916931), ('Tweet', 0.6875007152557373), ('Tweeting', 0.6845167279243469)]\n"
     ]
    }
   ],
   "source": [
    "print(google_vectors.most_similar('twitter'))"
   ]
  },
  {
   "cell_type": "code",
   "execution_count": 3,
   "id": "314eff3b",
   "metadata": {},
   "outputs": [],
   "source": [
    "google_vectors.save('google.d2v')"
   ]
  },
  {
   "cell_type": "code",
   "execution_count": 1,
   "id": "bd37dc1d",
   "metadata": {},
   "outputs": [
    {
     "name": "stdout",
     "output_type": "stream",
     "text": [
      "[('Twitter', 0.8908904194831848), ('Twitter.com', 0.753678023815155), ('tweet', 0.7431625723838806), ('tweeting', 0.7161931991577148), ('tweeted', 0.7137225866317749), ('facebook', 0.6988551616668701), ('tweets', 0.6974530816078186), ('Tweeted', 0.6950210928916931), ('Tweet', 0.6875007152557373), ('Tweeting', 0.6845167279243469)]\n"
     ]
    }
   ],
   "source": [
    "from gensim.models import KeyedVectors\n",
    "google_vectors_2 = KeyedVectors.load('google.d2v')\n",
    "print(google_vectors_2.most_similar('twitter'))"
   ]
  },
  {
   "cell_type": "code",
   "execution_count": 27,
   "id": "fbddcd52",
   "metadata": {},
   "outputs": [],
   "source": [
    "import numpy as np\n",
    "from gtda.homology import VietorisRipsPersistence\n",
    "\n",
    "def tda_text(sentence):\n",
    "    words = [w for w in sentence.split() if w in google_vectors_2.key_to_index]\n",
    "    n = len(words)\n",
    "    \n",
    "    dissimilarity = np.zeros((n,n))\n",
    "    \n",
    "    for i in range(n):\n",
    "        for j in range(i, n):\n",
    "            s = google_vectors_2.similarity(words[i], words[j])    \n",
    "            dissimilarity[i][j] = 1 - s\n",
    "            dissimilarity[j][i] = 1 - s\n",
    "    \n",
    "    # Instantiate topological transformer\n",
    "    VR = VietorisRipsPersistence(metric=\"precomputed\")\n",
    "\n",
    "    # Compute persistence diagrams corresponding to each entry (only one here) in X\n",
    "    persistence = VR.fit_transform([dissimilarity])\n",
    "    \n",
    "    print(persistence)\n",
    "    \n",
    "    persistence_0 = persistence[persistence[:, -1] == 0][:,:2]\n",
    "    persistence_1 = persistence[persistence[:, -1] == 1][:,:2]\n",
    "    persistence_0_no_inf = np.array([bars for bars in persistence_0 if bars[1]!= np.inf])\n",
    "    persistence_1_no_inf = np.array([bars for bars in persistence_1 if bars[1]!= np.inf])\n",
    "\n",
    "    fig, axes = plt.subplots(nrows=1, ncols=2, figsize=(8, 8))\n",
    "\n",
    "    gd.plot_persistence_barcode(persistence_0, axes=axes[0])\n",
    "    axes[0].set_title('Persistence barcode 0')\n",
    "\n",
    "    gd.plot_persistence_barcode(persistence_1, axes=axes[1])\n",
    "    axes[1].set_title('Persistence barcode 1')"
   ]
  },
  {
   "cell_type": "code",
   "execution_count": 28,
   "id": "5172a626",
   "metadata": {
    "scrolled": true
   },
   "outputs": [
    {
     "name": "stdout",
     "output_type": "stream",
     "text": [
      "[[[0.00000000e+00 3.65937710e-01 0.00000000e+00]\n",
      "  [0.00000000e+00 4.36693072e-01 0.00000000e+00]\n",
      "  [0.00000000e+00 6.49017930e-01 0.00000000e+00]\n",
      "  [0.00000000e+00 6.50198221e-01 0.00000000e+00]\n",
      "  [0.00000000e+00 6.56510532e-01 0.00000000e+00]\n",
      "  [0.00000000e+00 6.72000408e-01 0.00000000e+00]\n",
      "  [0.00000000e+00 7.31938362e-01 0.00000000e+00]\n",
      "  [0.00000000e+00 7.51425683e-01 0.00000000e+00]\n",
      "  [0.00000000e+00 7.65535951e-01 0.00000000e+00]\n",
      "  [5.96046448e-08 7.83142328e-01 0.00000000e+00]\n",
      "  [0.00000000e+00 8.04336488e-01 0.00000000e+00]\n",
      "  [5.96046448e-08 8.17232251e-01 0.00000000e+00]\n",
      "  [8.58035922e-01 8.59018922e-01 1.00000000e+00]\n",
      "  [8.26782405e-01 8.38365555e-01 1.00000000e+00]\n",
      "  [8.18845153e-01 8.90827000e-01 1.00000000e+00]\n",
      "  [8.17360163e-01 8.29792380e-01 1.00000000e+00]]]\n"
     ]
    },
    {
     "ename": "IndexError",
     "evalue": "boolean index did not match indexed array along dimension 1; dimension is 16 but corresponding boolean dimension is 3",
     "output_type": "error",
     "traceback": [
      "\u001b[1;31m---------------------------------------------------------------------------\u001b[0m",
      "\u001b[1;31mIndexError\u001b[0m                                Traceback (most recent call last)",
      "\u001b[1;32m~\\AppData\\Local\\Temp\\ipykernel_19032\\2451722102.py\u001b[0m in \u001b[0;36m<module>\u001b[1;34m\u001b[0m\n\u001b[1;32m----> 1\u001b[1;33m \u001b[0mtda_text\u001b[0m\u001b[1;33m(\u001b[0m\u001b[1;34m'Musical Instruments Instrument Accessories Guitar & Bass Accessories Cleaning & Care Hosa Cable D5S6 Deoxit Contact Cleaner SprayHosa'\u001b[0m\u001b[1;33m)\u001b[0m\u001b[1;33m\u001b[0m\u001b[1;33m\u001b[0m\u001b[0m\n\u001b[0m",
      "\u001b[1;32m~\\AppData\\Local\\Temp\\ipykernel_19032\\1889400888.py\u001b[0m in \u001b[0;36mtda_text\u001b[1;34m(sentence)\u001b[0m\n\u001b[0;32m     22\u001b[0m     \u001b[0mprint\u001b[0m\u001b[1;33m(\u001b[0m\u001b[0mpersistence\u001b[0m\u001b[1;33m)\u001b[0m\u001b[1;33m\u001b[0m\u001b[1;33m\u001b[0m\u001b[0m\n\u001b[0;32m     23\u001b[0m \u001b[1;33m\u001b[0m\u001b[0m\n\u001b[1;32m---> 24\u001b[1;33m     \u001b[0mpersistence_0\u001b[0m \u001b[1;33m=\u001b[0m \u001b[0mpersistence\u001b[0m\u001b[1;33m[\u001b[0m\u001b[0mpersistence\u001b[0m\u001b[1;33m[\u001b[0m\u001b[1;33m:\u001b[0m\u001b[1;33m,\u001b[0m \u001b[1;33m-\u001b[0m\u001b[1;36m1\u001b[0m\u001b[1;33m]\u001b[0m \u001b[1;33m==\u001b[0m \u001b[1;36m0\u001b[0m\u001b[1;33m]\u001b[0m\u001b[1;33m[\u001b[0m\u001b[1;33m:\u001b[0m\u001b[1;33m,\u001b[0m\u001b[1;33m:\u001b[0m\u001b[1;36m2\u001b[0m\u001b[1;33m]\u001b[0m\u001b[1;33m\u001b[0m\u001b[1;33m\u001b[0m\u001b[0m\n\u001b[0m\u001b[0;32m     25\u001b[0m     \u001b[0mpersistence_1\u001b[0m \u001b[1;33m=\u001b[0m \u001b[0mpersistence\u001b[0m\u001b[1;33m[\u001b[0m\u001b[0mpersistence\u001b[0m\u001b[1;33m[\u001b[0m\u001b[1;33m:\u001b[0m\u001b[1;33m,\u001b[0m \u001b[1;33m-\u001b[0m\u001b[1;36m1\u001b[0m\u001b[1;33m]\u001b[0m \u001b[1;33m==\u001b[0m \u001b[1;36m1\u001b[0m\u001b[1;33m]\u001b[0m\u001b[1;33m[\u001b[0m\u001b[1;33m:\u001b[0m\u001b[1;33m,\u001b[0m\u001b[1;33m:\u001b[0m\u001b[1;36m2\u001b[0m\u001b[1;33m]\u001b[0m\u001b[1;33m\u001b[0m\u001b[1;33m\u001b[0m\u001b[0m\n\u001b[0;32m     26\u001b[0m     \u001b[0mpersistence_0_no_inf\u001b[0m \u001b[1;33m=\u001b[0m \u001b[0mnp\u001b[0m\u001b[1;33m.\u001b[0m\u001b[0marray\u001b[0m\u001b[1;33m(\u001b[0m\u001b[1;33m[\u001b[0m\u001b[0mbars\u001b[0m \u001b[1;32mfor\u001b[0m \u001b[0mbars\u001b[0m \u001b[1;32min\u001b[0m \u001b[0mpersistence_0\u001b[0m \u001b[1;32mif\u001b[0m \u001b[0mbars\u001b[0m\u001b[1;33m[\u001b[0m\u001b[1;36m1\u001b[0m\u001b[1;33m]\u001b[0m\u001b[1;33m!=\u001b[0m \u001b[0mnp\u001b[0m\u001b[1;33m.\u001b[0m\u001b[0minf\u001b[0m\u001b[1;33m]\u001b[0m\u001b[1;33m)\u001b[0m\u001b[1;33m\u001b[0m\u001b[1;33m\u001b[0m\u001b[0m\n",
      "\u001b[1;31mIndexError\u001b[0m: boolean index did not match indexed array along dimension 1; dimension is 16 but corresponding boolean dimension is 3"
     ]
    }
   ],
   "source": [
    "tda_text('Musical Instruments Instrument Accessories Guitar & Bass Accessories Cleaning & Care Hosa Cable D5S6 Deoxit Contact Cleaner SprayHosa')"
   ]
  },
  {
   "cell_type": "code",
   "execution_count": 16,
   "id": "bbf3156a",
   "metadata": {},
   "outputs": [
    {
     "name": "stdout",
     "output_type": "stream",
     "text": [
      "['</s>', 'in', 'for', 'that', 'is']\n"
     ]
    }
   ],
   "source": [
    "print(list(google_vectors_2.key_to_index)[:5])"
   ]
  },
  {
   "cell_type": "code",
   "execution_count": null,
   "id": "d34d8849",
   "metadata": {},
   "outputs": [],
   "source": []
  }
 ],
 "metadata": {
  "kernelspec": {
   "display_name": "Python 3 (ipykernel)",
   "language": "python",
   "name": "python3"
  },
  "language_info": {
   "codemirror_mode": {
    "name": "ipython",
    "version": 3
   },
   "file_extension": ".py",
   "mimetype": "text/x-python",
   "name": "python",
   "nbconvert_exporter": "python",
   "pygments_lexer": "ipython3",
   "version": "3.9.13"
  }
 },
 "nbformat": 4,
 "nbformat_minor": 5
}
